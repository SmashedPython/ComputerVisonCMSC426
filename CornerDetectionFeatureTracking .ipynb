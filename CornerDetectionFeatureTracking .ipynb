{
  "cells": [
    {
      "cell_type": "markdown",
      "metadata": {
        "id": "Jf-_uA8P5Hf7"
      },
      "source": [
        "Assignment 2:\n",
        "\n",
        "Name:\n",
        "\n",
        "UID:\n",
        "\n",
        "Please submit to ELMS:\n",
        "- a PDF containing all outputs (by executing **Run all**)\n",
        "- your ipynb notebook containing all the code\n",
        "\n",
        "I understand the policy on academic integrity (collaboration and the use of online materials).\n",
        "\n",
        "Please sign your name here:\n"
      ]
    },
    {
      "cell_type": "code",
      "execution_count": null,
      "metadata": {
        "id": "Hy_Iqu-qnIj3"
      },
      "outputs": [],
      "source": [
        "## Import necessary libraries here (You can add libraries you want to use here)\n",
        "import cv2\n",
        "import numpy as np\n",
        "from scipy.io import loadmat\n",
        "from scipy import ndimage\n",
        "import matplotlib.pyplot as plt\n",
        "import os, sys, time\n",
        "%matplotlib inline"
      ]
    },
    {
      "cell_type": "markdown",
      "metadata": {
        "id": "9ftoiwAo45n5"
      },
      "source": [
        "# Part 1: A Feature Tracker (50 Points)"
      ]
    },
    {
      "cell_type": "markdown",
      "metadata": {
        "id": "tJikaY9ICDYH"
      },
      "source": [
        "## Overview\n",
        "\n",
        "In the problem, you will implement a corner detector and feature tracker that track features from the image sequence hotel. Since this is a two part problem, we have included precomputed intermediate results in the *Data* section in case you’re unable to complete any portion.\n",
        "\n",
        "<img src=\"https://drive.google.com/uc?id=1sBtKpU2mYEPZ9c2Cvw-DBuLBPK2gYwC-\" width=\"700\"/>\n",
        "\n",
        "**Note:**  Do not use existing keypoint\n",
        "detectors, trackers, or structure from motion code, such as found on the web, and OpenCV."
      ]
    },
    {
      "cell_type": "markdown",
      "metadata": {
        "id": "WR0sjl-f6qkm"
      },
      "source": [
        "## Data\n",
        "\n",
        "**WARNING: Colab deletes all files everytime runtime is disconnected. Make sure to re-download the inputs when it happens.**"
      ]
    },
    {
      "cell_type": "code",
      "execution_count": null,
      "metadata": {
        "id": "0uWzKA6i68ls"
      },
      "outputs": [],
      "source": [
        "# Download Data -- run this cell only one time per runtime\n",
        "!gdown 1fT0H-FbbDZnjMfCJHZcscpcwAXHhGgNw\n",
        "!unzip \"/content/part1_images.zip\" -d \"/content/\"\n",
        "!gdown 1r-Pdino6MRLCEWX_sQOgd8D5AVsRc7Ym\n",
        "# Load Initial Key Points\n",
        "data = loadmat('/content/initial_keypoints.mat')\n",
        "X0 = data['Xo']\n",
        "Y0 = data['Yo']"
      ]
    },
    {
      "cell_type": "markdown",
      "metadata": {
        "id": "E_Pd1s5uL2Bg"
      },
      "source": [
        "## Helper Functions"
      ]
    },
    {
      "cell_type": "code",
      "execution_count": null,
      "metadata": {
        "id": "gESONvcFL4y0"
      },
      "outputs": [],
      "source": [
        "def readImages(folder, num_images):\n",
        "  arr_images = []\n",
        "  for i in range(num_images):\n",
        "    arr_images.append(cv2.imread(f'{folder}hotel.seq{i}.png'))\n",
        "  return np.array(arr_images, dtype=np.float32)\n",
        "\n",
        "# read all 51 sequences of images\n",
        "folder = '/content/part1_images/'\n",
        "im = readImages(folder, 51)"
      ]
    },
    {
      "cell_type": "markdown",
      "metadata": {
        "id": "h7ouOF_UlTKF"
      },
      "source": [
        "## 1.1 Keypoint Selection (15 pts)\n",
        "\n",
        "For the first frame, use the second moment matrix to locate strong corners to use as keypoints.\n",
        "These points will be tracked throughout the sequence in the second part of the problem. Choose a proper threshold so that edges and noisy patches are ignored. Do local non-maxima suppression over a 5x5 window centered at each point.\n",
        "This should give several hundred good points to track."
      ]
    },
    {
      "cell_type": "markdown",
      "metadata": {
        "id": "Efy0NyPjo3y3"
      },
      "source": [
        "### Code (5 pts)"
      ]
    },
    {
      "cell_type": "code",
      "execution_count": null,
      "metadata": {
        "id": "NeXJU9eHmzMb"
      },
      "outputs": [],
      "source": [
        "def getKeypoints(img, tau):\n",
        "  '''\n",
        "  Detecting keypoints using Harris corner criterion\n",
        "\n",
        "  Parameters:\n",
        "    img: input image\n",
        "    tau: threshold\n",
        "\n",
        "  Steps:\n",
        "  1. Convert to grayscale\n",
        "  2. Smooth image\n",
        "  3. Compute image gradients\n",
        "  4. Create structure tensor M\n",
        "  5. Compute corner response f\n",
        "  6. Non-maximum suppression\n",
        "      - Hint: might need to use ndimage.maximum_filter and .nonzero() along the way\n",
        "\n",
        "  Output:\n",
        "    keypoints : (N,2) array of [x,y] keypoints\n",
        "  '''\n",
        "  window_size = 7\n",
        "\n",
        "  # Steps 1-5\n",
        "  # YOUR CODE HERE\n",
        "\n",
        "  # Step 6: Non-maximum suppression\n",
        "  nms_window_size = 5\n",
        "  # YOUR CODE HERE\n",
        "\n",
        "# compute keypoints in the first sequence\n",
        "tau = 0.06\n",
        "key_pts = getKeypoints(im[0], tau)\n",
        "\n",
        "# add plots for the write-up\n",
        "# YOUR CODE HERE"
      ]
    },
    {
      "cell_type": "markdown",
      "metadata": {
        "id": "zmN8MtK2mOUz"
      },
      "source": [
        "### Write-up (10 pts)\n",
        "\n",
        "\n",
        "*   (5 pts) Explain your implementation of getKeypoints()\n",
        "*   (5 pts) Display the first frame of the sequence overlaid with the detected keypoints. Ensure that they are clearly visible (plot with `color='g' and linewidths=3`)\n",
        "\n"
      ]
    },
    {
      "cell_type": "markdown",
      "metadata": {
        "id": "I06DhqYI4YI7"
      },
      "source": [
        "**Include your write-up here**"
      ]
    },
    {
      "cell_type": "markdown",
      "metadata": {
        "id": "n0-XMmadpALk"
      },
      "source": [
        "## 1.2 Feature Tracking (35 pts)\n",
        "\n",
        "Apply the Kanade-Lucas-Tomasi tracking procedure to track the keypoints found in part 1.1 (or the given keypoints in the *Data* section) throughout the hotel sequence.\n",
        "\n",
        "<img src=\"https://drive.google.com/uc?id=1dU4p4YcnXoQFnrNvleEty_4tDECkVW9Q\" width=\"500\"/>\n",
        "\n",
        "Some keypoints will move out of the image frame over the course of the sequence. Discard keypoints for which the predicted translation falls outside the image frame.\n",
        "\n",
        "**Hint:**\n",
        "\n",
        "*  From the 1st frame to the 2nd frame, use the detected keypoints at the first frame as initialization points. From the 2nd to 3rd frame, use the tracked positions at the 2nd frame as initialization. Note that the tracked keypoints in general are not at integer positions.\n",
        "\n",
        "*  For each point, use a window size of 15 x 15.\n",
        "\n",
        "Add code to **plot** your tracked points overlayed in the **first sequence** and the **last sequence**. They should look similar to the second picture shown in the Overview section.\n",
        "\n"
      ]
    },
    {
      "cell_type": "markdown",
      "metadata": {
        "id": "7J0iUZg6vFee"
      },
      "source": [
        "### Code (10 pts)"
      ]
    },
    {
      "cell_type": "code",
      "execution_count": null,
      "metadata": {
        "id": "OnjkdkuWtzo9"
      },
      "outputs": [],
      "source": [
        "def lucas_kanade_tracking(I1, I2, x, y, ws=5, max_iter=10, epsilon=0.01):\n",
        "  '''\n",
        "  Tracking using Lucas-Kanade algorithm\n",
        "\n",
        "  Parameters:\n",
        "    I1: first frame of input image sequence (grayscale)\n",
        "    I2: second frame of input image sequence (grayscale)\n",
        "    x: x locations of the keypoints in first frame\n",
        "    y: y locations of the keypoints in first frame\n",
        "    ws: local window size\n",
        "    max_iter: number of iterations\n",
        "    epsilon: threshold for checking convergence\n",
        "\n",
        "  Steps:\n",
        "  1. Compute image gradients\n",
        "  2. Iterate until convergence\n",
        "      3. Extract image gradients within local window\n",
        "      4. Construct the second moment matrix A and vector b using results from (3)\n",
        "      5. Solve for optical flow (u, v) using least squares\n",
        "      6. Based on the (u, v) obtained in step 5, use bilinear interpolation to get sub-pixel level image gradients then solve the least square again\n",
        "      7. Update keypoint locations by adding the calculated optical flow vector components\n",
        "      8. Check convergence\n",
        "\n",
        "  Output:\n",
        "    new_x: newly calculated keypoints for second frame\n",
        "    new_y: newly calculated keypoints for second frame\n",
        "  '''\n",
        "  # YOUR CODE HERE\n",
        "  return new_x, new_y\n",
        "\n",
        "# track keypoints across between 2 frames in the image sequence\n",
        "new_x, new_y = lucas_kanade_tracking(image1, image2, x_initial, y_initial)\n"
      ]
    },
    {
      "cell_type": "markdown",
      "metadata": {
        "id": "O76508F1vH0_"
      },
      "source": [
        "### Write-up (25 pts)\n",
        "\n",
        "*   (5 pts) For all the keypoints, display (1) the keypoints at the first frame (as green) and (2) the tracked keypoints at the second frame (as red) on the first frame of the sequence.\n",
        "*   (10 pts) For 20 random keypoints, draw the 2D path over the sequence of frames. That is, plot the progression of image coordinates for each of the 20 keypoints across all 50 images. Plot each of the paths on the same figure, overlaid on the first frame of the sequence.\n",
        "*   (10 pts) On top of the first frame, plot the points which have moved out of frame at some point along the sequence. **Hint**: you may want to implement a boolean mask to keep track of which detected corners moved out of frame.\n",
        "\n",
        "\n",
        "\n"
      ]
    },
    {
      "cell_type": "markdown",
      "metadata": {
        "id": "iHYhHqAM9R1l"
      },
      "source": [
        "**Include your write-up here**\n",
        "\n"
      ]
    },
    {
      "cell_type": "markdown",
      "source": [
        "### Bonus (5 pts)\n",
        "\n",
        "*   For 20 random keypoints in frame 1 and frame 10, implement coarse-to-fine registration to take care of large motion between the consecutive frames. Plot the tracked paths between frame 1 and frame 10."
      ],
      "metadata": {
        "id": "ReAINqlHSVD1"
      }
    },
    {
      "cell_type": "code",
      "source": [
        "# YOUR CODE HERE"
      ],
      "metadata": {
        "id": "S_mvoKJCPTfV"
      },
      "execution_count": null,
      "outputs": []
    }
  ],
  "metadata": {
    "colab": {
      "provenance": [],
      "collapsed_sections": [
        "zmN8MtK2mOUz"
      ]
    },
    "kernelspec": {
      "display_name": "Python 3",
      "name": "python3"
    },
    "language_info": {
      "name": "python"
    }
  },
  "nbformat": 4,
  "nbformat_minor": 0
}